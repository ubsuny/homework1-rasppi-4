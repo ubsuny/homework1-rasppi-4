{
 "cells": [
  {
   "cell_type": "markdown",
   "metadata": {},
   "source": [
    "## Problem 2"
   ]
  },
  {
   "cell_type": "code",
   "execution_count": 1,
   "metadata": {},
   "outputs": [],
   "source": [
    "import math\n",
    "import numpy as np\n",
    "import matplotlib.pyplot as plt\n",
    "from least_squares import least_squares"
   ]
  },
  {
   "cell_type": "markdown",
   "metadata": {},
   "source": [
    "In order to group our nebulae, we make use of the catalogue tool located at [http://spider.seds.org/ngc/ngc.html]. After manually plugging in all 24 nebulae in this catalogue, we categorize them into 9 groups according to their proximity to one another much like Hubble originally did. The grouping that I believe he chose is as follows:\n",
    "\n",
    "Group 1: S.Mag\n",
    "\n",
    "Group 2: L.Mag\n",
    "\n",
    "Group 3: N.G.C. 6822\n",
    "\n",
    "Group 4: 1068\n",
    "\n",
    "Group 5: 3031\n",
    "\n",
    "Group 6: 7331\n",
    "\n",
    "Group 7: 221, 224, 598\n",
    "\n",
    "Group 8: 3627, 4382, 4472, 4486, 4649, 5236\n",
    "\n",
    "Group 9: 4151, 4214, 4258, 4449, 4736, 4826, 5055, 5194, 5457\n",
    "\n",
    "Once again, in order to create these nine groups I grouped the nebulae according to their relative distances as well as to their catalogue number since they seem to be directly related to the relative distance. Within each group, we now take the average of the measured velocities as well as of their distances. These values are given by:\n",
    "\n",
    "$$v_{1} = 170.00, v_{2} = 290.00, v_{3} = -130.00, v_{4} = 920.00, v_{5} = -30.00, v_{6} = 500.00, v_{7} = -158.33, v_{8} = 731.67, v_{9} = 368.89$$\n",
    "\n",
    "$$r_{1} = 0.03, r_{2} = 0.03, r_{3} = 0.21, r_{4} = 1.00, r_{5} = 0.90, r_{6} = 1.10, r_{7} = 0.27, r_{8} = 1.63, r_{9} = 0.89$$\n",
    "\n",
    "All velocities are in km/sec and all distances are in $10^{6}$ parsecs. At this point I'm not sure if I have acquired the correct data points or if my procedure is correct since these points seem to be different from the plotted values on the Hubble paper."
   ]
  },
  {
   "cell_type": "code",
   "execution_count": 2,
   "metadata": {},
   "outputs": [
    {
     "name": "stdout",
     "output_type": "stream",
     "text": [
      " Least-squares fit of 9 data points\n",
      " -----------------------------------\n",
      " Hubble's constant slope   b = 444.73 +/- 190.99  km/s/Mpc\n",
      " Intercept with r axis     a =  -3.65 +/- 163.41  km/s\n",
      " Estimated v error bar sigma = 302.4 km/s\n"
     ]
    },
    {
     "data": {
      "image/png": "[encoded data removed]",
      "text/plain": [
       "<Figure size 432x288 with 1 Axes>"
      ]
     },
     "metadata": {
      "needs_background": "light"
     },
     "output_type": "display_data"
    }
   ],
   "source": [
    "# distances in Mpc\n",
    "r = np.array([0.03, 0.03, 0.21, 1.00, 0.90, 1.10, 0.27, 1.63, 0.89])\n",
    "\n",
    "# velocities in km/s\n",
    "v = np.array([170.00, 290.00, -130.00, 920.00, -30.00, 500.00, -158.33, 731.67, 368.89])\n",
    "\n",
    "n = len(r)   # number of galaxies\n",
    "\n",
    "if n <= 2 :\n",
    "    print ('Error! Need at least two data points!')\n",
    "    exit()\n",
    "\n",
    "# Use our least-squares fit\n",
    "[a, b, sigma, sigma_a, sigma_b] = least_squares(r,v)\n",
    "\n",
    "# Print out results\n",
    "print (' Least-squares fit of', n, 'data points')\n",
    "print (' -----------------------------------')\n",
    "print (\" Hubble's constant slope   b = {0:6.2f} +/- {1:6.2f}  km/s/Mpc\".format( b, sigma_b))\n",
    "print (\" Intercept with r axis     a = {0:6.2f} +/- {1:6.2f}  km/s\".format( a, sigma_a))\n",
    "print (' Estimated v error bar sigma =', round(sigma, 1), 'km/s')\n",
    "\n",
    "rvals = np.linspace(0., 2.0, 21)\n",
    "f = a + b * rvals\n",
    "\n",
    "plt.scatter( r, v)\n",
    "plt.plot( rvals, f , label=\"Least-squares Fit\")\n",
    "plt.figure(1)\n",
    "plt.xlabel(\"Distance (Mpc)\")\n",
    "plt.ylabel(\"Velocity (km/s)\")\n",
    "plt.legend()\n",
    "\n",
    "plt.show()"
   ]
  },
  {
   "cell_type": "markdown",
   "metadata": {},
   "source": [
    "With this data at hand, we can now calculate the age of the universe; all we need are the conversion factors between Mpc to km and between years to seconds. The result is:"
   ]
  },
  {
   "cell_type": "code",
   "execution_count": 3,
   "metadata": {},
   "outputs": [
    {
     "name": "stdout",
     "output_type": "stream",
     "text": [
      "The age of the universe is: 2.20e+09 +/- 9.45e+08 years.\n"
     ]
    }
   ],
   "source": [
    "distance_conversion = 3.086e19\n",
    "time_conversion = 3.154e+7\n",
    "t = distance_conversion/ b / time_conversion\n",
    "sigma_t = (sigma_b)/b * t\n",
    "print(\"The age of the universe is: %6.2e +/- %6.2e years.\" % (t, sigma_t))"
   ]
  },
  {
   "cell_type": "markdown",
   "metadata": {},
   "source": [
    "Compared to the accepted value of 1.37e10 years, we see that our value for the age of the universe is off by an order of magnitude. This might be due to the grouping I chose, though I'm not 100% sure."
   ]
  },
  {
   "cell_type": "code",
   "execution_count": null,
   "metadata": {},
   "outputs": [],
   "source": []
  }
 ],
 "metadata": {
  "kernelspec": {
   "display_name": "Python 3",
   "language": "python",
   "name": "python3"
  },
  "language_info": {
   "codemirror_mode": {
    "name": "ipython",
    "version": 3
   },
   "file_extension": ".py",
   "mimetype": "text/x-python",
   "name": "python",
   "nbconvert_exporter": "python",
   "pygments_lexer": "ipython3",
   "version": "3.8.5"
  }
 },
 "nbformat": 4,
 "nbformat_minor": 4
}
