{
 "cells": [
  {
   "cell_type": "markdown",
   "metadata": {},
   "source": [
    "## Problem 1"
   ]
  },
  {
   "cell_type": "code",
   "execution_count": 1,
   "metadata": {},
   "outputs": [],
   "source": [
    "import numpy as np\n",
    "import matplotlib.pyplot as plt\n",
    "from read_co2 import read_co2"
   ]
  },
  {
   "cell_type": "markdown",
   "metadata": {},
   "source": [
    "Having imported all necessary modules, we now begin to derive the values for the chi_square_fit test fitted to a polynomial of degree two. The new chi-squared function we must minimize is therefore:\n",
    "\n",
    "$$\\chi^{2} (a, b, c) = \\sum_{i = 0}^{n - 1} \\biggl( \\frac{y_{i} - a - b x_{i} - c x_{i}^{2}}{\\sigma_{i}} \\biggr)^{2}$$\n",
    "\n",
    "When minimized with respect to its arguments, the chi-square equation given above yields the following three partial derivatives:\n",
    "\n",
    "$$\\frac{\\partial \\chi^{2}}{\\partial a} = \\sum_{i = 0}^{n - 1} \\frac{-2}{\\sigma_{i}^{2}} (y_{i} - a - b x_{i} - c x_{i}^{2}) = 0$$\n",
    "\n",
    "$$\\frac{\\partial \\chi^{2}}{\\partial b} = \\sum_{i = 0}^{n - 1} \\frac{-2 x_{i}}{\\sigma_{i}^{2}} (y_{i} - a - b x_{i} - c x_{i}^{2}) = 0$$\n",
    "\n",
    "$$\\frac{\\partial \\chi^{2}}{\\partial c} = \\sum_{i = 0}^{n - 1} \\frac{-2 x_{i}^{2}}{\\sigma_{i}^{2}} (y_{i} - a - b x_{i} - c x_{i}^{2}) = 0$$\n",
    "\n",
    "These three equations can be rearranged to give:\n",
    "\n",
    "$$\\sum_{i} \\frac{y_{i}}{\\sigma_{i}^{2}} - a \\sum_{i} \\frac{1}{\\sigma_{i}^{2}} - b \\sum_{i} \\frac{x_{i}}{\\sigma_{i}^{2}} - c \\sum_{i} \\frac{x_{i}^{2}}{\\sigma_{i}^{2}} = 0$$\n",
    "\n",
    "$$\\sum_{i} \\frac{x_{i} y_{i}}{\\sigma_{i}^{2}} - a \\sum_{i} \\frac{x_{i}}{\\sigma_{i}^{2}} - b \\sum_{i} \\frac{x^{2}_{i}}{\\sigma_{i}^{2}} - c \\sum_{i} \\frac{x_{i}^{3}}{\\sigma_{i}^{2}} = 0$$\n",
    "\n",
    "$$\\sum_{i} \\frac{x^{2}_{i} y_{i}}{\\sigma_{i}^{2}} - a \\sum_{i} \\frac{x^{2}_{i}}{\\sigma_{i}^{2}} - b \\sum_{i} \\frac{x^{3}_{i}}{\\sigma_{i}^{2}} - c \\sum_{i} \\frac{x_{i}^{4}}{\\sigma_{i}^{2}} = 0$$\n",
    "\n",
    "Next, we use the substitutions $S = \\sum 1 / \\sigma^{2}$, $S_{y} = \\sum y / \\sigma^{2}$, $S_{xy} = \\sum xy / \\sigma^{2}$, $S_{xxy} = \\sum x^{2}y / \\sigma^{2}$, $S_{x} = \\sum x / \\sigma^{2}$, $S_{xx} = \\sum x^{2} / \\sigma^{2}$, $S_{xxx} = \\sum x^{3} / \\sigma^{2}$, and $S_{xxxx} = \\sum x^{4} / \\sigma^{2}$ in order to simplify our equations to:\n",
    "\n",
    "$$S_{y} - aS - bS_{x} -cS_{xx} = 0$$\n",
    "\n",
    "$$S_{xy} - aS_{x} - bS_{xx} -cS_{xxx} = 0$$\n",
    "\n",
    "$$S_{xxy} - aS_{xx} - bS_{xxx} -cS_{xxxx} = 0$$\n",
    "\n",
    "We thus have acquired a system of three equations in three unknowns. Our next task is to solve this for the three constants a, b, and c, which represent the degrees of freedom of our data. After a decent amount of algebra we arrive at the desired expressions for these constants:\n",
    "\n",
    "$$a = \\biggl( \\frac{ S_{xx}^{2} S_{xxy} + S_{xxxx} S_{x} S_{xy} - S_{xxx} (S_{x} S_{xxy} + S_{xx} S_{xy} ) + S_{xxx}^{2} S_{y} - S_{xxxx} S_{xx} S_{y}}{S_{xx}^{3} + S_{xxxx} ( S_{x}^{2} - S S_{xx} ) - 2 S_{x} S_{xx} S_{xxx} + S S_{xxx}^{2}} \\biggr)$$\n",
    "\n",
    "$$b = \\biggl( \\frac{S S_{xxx} S_{xxy} - S_{x} S_{xx} S_{xxy} - S S_{xxxx} S_{xy} + S_{xx}^{2} S_{xy} + S_{xxxx} S_{x} S_{y} - S_{xxx} S_{xx} S_{y}}{S_{xx}^{3} + S_{xxxx} ( S_{x}^{2} - S S_{xx} ) - 2 S_{x} S_{xx} S_{xxx} + S S_{xxx}^{2}} \\biggr)$$\n",
    "\n",
    "$$c = \\biggl( \\frac{S_{x}^{2} S_{xxy} - S S_{xx} S_{xxy} + S S_{xxx} S_{xy} + S_{xx}^{2} S_{y} - S_{x} (S_{xx} S_{xy} + S_{xxx} S_{y})}{S_{xx}^{3} + S_{xxxx} ( S_{x}^{2} - S S_{xx} ) - 2 S_{x} S_{xx} S_{xxx} + S S_{xxx}^{2}} \\biggr)$$\n",
    "\n",
    "The corrensponding uncertainties in a, b, and c can then be found through the usual rules of error propagation. Since we are assuming that only the $y_{i}$'s are subject to uncertainty, very few terms survive differentiation with respect to $S_{y}$. The results are given by:\n",
    "\n",
    "$$ \\sigma_{a} = \\sqrt{ \\frac{S_{xxx}^{2} - S_{xxxx} S_{xx}}{S_{xx}^{3} + S_{xxxx} ( S_{x}^{2} - S S_{xx} ) - 2 S_{x} S_{xx} S_{xxx} + S S_{xxx}^{2}}}$$\n",
    "\n",
    "$$ \\sigma_{b} = \\sqrt{ \\frac{S_{xx}^{2} - S_{xxxx} S}{S_{xx}^{3} + S_{xxxx} ( S_{x}^{2} - S S_{xx} ) - 2 S_{x} S_{xx} S_{xxx} + S S_{xxx}^{2}}}$$\n",
    "\n",
    "$$ \\sigma_{c} = \\sqrt{ \\frac{S_{x}^{2} - S S_{xx}}{S_{xx}^{3} + S_{xxxx} ( S_{x}^{2} - S S_{xx} ) - 2 S_{x} S_{xx} S_{xxx} + S S_{xxx}^{2}}}$$\n",
    "\n",
    "Having found all the relevant quantities, we now proceed to producing our desired plots. A good portion of the following code was taken from the CompPhys/DataAnalysis files on github."
   ]
  },
  {
   "cell_type": "code",
   "execution_count": 2,
   "metadata": {},
   "outputs": [],
   "source": [
    "# Make the plots a bit bigger to see\n",
    "# NOTE: Must be done in a separate cell\n",
    "plt.rcParams['figure.dpi'] = 100"
   ]
  },
  {
   "cell_type": "code",
   "execution_count": 3,
   "metadata": {},
   "outputs": [],
   "source": [
    "# Start of our quadratic fit function. The following code was adapted from the chi_square_fit.py file\n",
    "def quadraticfit(x, y, err):\n",
    "    n = len(x)\n",
    "    if n < 3 :\n",
    "        print ('Error! Need at least 3 data points!')\n",
    "        exit()\n",
    "    S = np.sum(1/err**2)\n",
    "    if abs(S) < 0.00001 :\n",
    "        print ('Error! Denominator S is too small!')\n",
    "        exit()\n",
    "#Below we define and initialize all of the quantities derived in the previous cell        \n",
    "    S_y = np.sum(y/err**2)\n",
    "    S_xy = np.sum(x*y/err**2)\n",
    "    S_xxy = np.sum(x**2*y/err**2)\n",
    "    S_x = np.sum(x/err**2)\n",
    "    S_xx = np.sum(x**2/err**2)\n",
    "    S_xxx = np.sum(x**3/err**2)\n",
    "    S_xxxx = np.sum(x**4/err**2)\n",
    "    denominator = S_xx**3+S_xxxx*(S_x**2-S*S_xx)-2*S_x*S_xx*S_xxx+S*S_xxx**2\n",
    "    if abs( denominator ) < 0.000001 :\n",
    "        print ('Error! Denomominator is zero!')\n",
    "        exit()\n",
    "#The solutions to our system of equations and their uncertanties can now be defined as well        \n",
    "    a = (S_xx**2*S_xxy + S_xxxx*S_x*S_xy - S_xxx*(S_x*S_xxy + S_xx*S_xy) + S_xxx**2*S_y - S_xxxx*S_xx*S_y)/denominator\n",
    "    b = (S*S_xxx*S_xxy - S_x*S_xx*S_xxy - S*S_xxxx*S_xy + S_xx**2*S_xy + S_xxxx*S_x*S_y - S_xxx*S_xx*S_y)/denominator\n",
    "    c = (S_x**2*S_xxy - S*S_xx*S_xxy + S*S_xxx*S_xy + S_xx**2*S_y - S_x*(S_xx*S_xy + S_xxx*S_y))/denominator\n",
    "    \n",
    "    sigma_a = np.sqrt((S_xxx**2-S_xxxx*S_xx)/denominator)\n",
    "    sigma_b = np.sqrt((S_xx**2-S_xxxx*S)/denominator)\n",
    "    sigma_c = np.sqrt((S_x**2-S*S_xx)/denominator)\n",
    "    chi_square = np.sum(((y - a - b*x - c*x**2) / err)**2)\n",
    "    \n",
    "    return(a, b, c, sigma_a, sigma_b, sigma_c, chi_square)"
   ]
  },
  {
   "cell_type": "code",
   "execution_count": 4,
   "metadata": {},
   "outputs": [
    {
     "data": {
      "image/png": "[encoded data removed]",
      "text/plain": [
       "<Figure size 600x400 with 1 Axes>"
      ]
     },
     "metadata": {
      "needs_background": "light"
     },
     "output_type": "display_data"
    }
   ],
   "source": [
    "# Get the CO2 data\n",
    "dates,data = read_co2('co2_mm_mlo.txt')\n",
    "plt.plot( dates, data )\n",
    "\n",
    "err = np.full_like(data, 1.)\n",
    "a,b,c,sigma_a,sigma_b,sigma_c,chi_square = quadraticfit(dates, data, err)\n",
    "    \n",
    "# Plot fit\n",
    "x=np.linspace(1958,2020,100)\n",
    "plt.plot(x,a+b*x+c*x**2, label=\"Quadratic Fit\")\n",
    "plt.legend(loc=0)\n",
    "plt.title(r\"CO$_{2}$ Concentration as a Function of Time\")\n",
    "plt.xlabel(\"Date (years)\")\n",
    "plt.ylabel(r\"CO$_{2}$ Concentration (ppm)\")\n",
    "plt.show()"
   ]
  },
  {
   "cell_type": "code",
   "execution_count": 5,
   "metadata": {},
   "outputs": [
    {
     "name": "stdout",
     "output_type": "stream",
     "text": [
      " a =  48472.29563269877  +/-  494.7197924272325\n",
      " b =  -49.956513624486746  +/-  0.4973702505271596\n",
      " c =  0.012952484894083613  +/-  0.00012500048010362046\n",
      " chi-square/d.o.f. =  0.6079759766915436\n",
      " Atmosphere becomes toxic at:  3826.0786866744393\n"
     ]
    }
   ],
   "source": [
    "#Lastly, we print the values of our constants and estimate when the atmosphere will become toxic to life\n",
    "k = 50000\n",
    "x_k = (-b + np.sqrt(b**2 - 4*c*(k-a))) / (2*c)\n",
    "\n",
    "if len(data) - 3 > 0 :\n",
    "    print (' a = ', a, ' +/- ', sigma_a)  \n",
    "    print (' b = ', b, ' +/- ', sigma_b)\n",
    "    print (' c = ', c, ' +/- ', sigma_c)\n",
    "    print (' chi-square/d.o.f. = ', chi_square/(len(data)-3))\n",
    "    print (' Atmosphere becomes toxic at: ', x_k)"
   ]
  },
  {
   "cell_type": "code",
   "execution_count": null,
   "metadata": {},
   "outputs": [],
   "source": []
  }
 ],
 "metadata": {
  "kernelspec": {
   "display_name": "Python 3",
   "language": "python",
   "name": "python3"
  },
  "language_info": {
   "codemirror_mode": {
    "name": "ipython",
    "version": 3
   },
   "file_extension": ".py",
   "mimetype": "text/x-python",
   "name": "python",
   "nbconvert_exporter": "python",
   "pygments_lexer": "ipython3",
   "version": "3.8.5"
  }
 },
 "nbformat": 4,
 "nbformat_minor": 4
}
